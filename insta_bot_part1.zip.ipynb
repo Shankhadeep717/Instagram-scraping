{
 "cells": [
  {
   "cell_type": "markdown",
   "id": "c81773ee",
   "metadata": {},
   "source": [
    "# InstaBot Introduction - Part 1\n"
   ]
  },
  {
   "cell_type": "markdown",
   "id": "19169db1",
   "metadata": {},
   "source": [
    "My friend has opened a new Food Blogging handle on Instagram and wants to get famous. He wants to follow a lot of people so that he can get noticed quickly but it is a tedious task so he asks me to help him. As I have just learned automation using Selenium, I have decided to help him by creating an Instagram Bot. I need to create different functions for each task."
   ]
  },
  {
   "cell_type": "code",
   "execution_count": 1,
   "id": "d656e9d4",
   "metadata": {},
   "outputs": [],
   "source": [
    "\n",
    "from selenium import webdriver\n",
    "from bs4 import BeautifulSoup\n",
    "from selenium.webdriver.common.keys import Keys\n",
    "from selenium.webdriver.support.ui import Select\n",
    "import requests"
   ]
  },
  {
   "cell_type": "markdown",
   "id": "1306c715",
   "metadata": {},
   "source": [
    "Log in to Instagram"
   ]
  },
  {
   "cell_type": "code",
   "execution_count": 2,
   "id": "bee5be7d",
   "metadata": {},
   "outputs": [],
   "source": [
    "driver=webdriver.Chrome()\n",
    "url=\"https://www.instagram.com/\"\n",
    "driver.get(url)"
   ]
  },
  {
   "cell_type": "code",
   "execution_count": 3,
   "id": "d0e9b7bb",
   "metadata": {},
   "outputs": [],
   "source": [
    "input_part=driver.find_elements(\"tag name\",\"input\")\n",
    "input_part[0].send_keys(\"#username\")\n",
    "input_part[1].send_keys(\"#userpassword\")\n"
   ]
  },
  {
   "cell_type": "code",
   "execution_count": 4,
   "id": "5958968e",
   "metadata": {},
   "outputs": [],
   "source": [
    "for part in driver.find_elements(\"tag name\",\"div\"):\n",
    "    if part.text==\"Log in\":\n",
    "        part.click()\n",
    "        break"
   ]
  },
  {
   "cell_type": "code",
   "execution_count": 5,
   "id": "6a14e0eb",
   "metadata": {},
   "outputs": [],
   "source": [
    "for part in driver.find_elements(\"tag name\",\"div\"):\n",
    "    if part.text==\"Not Now\":\n",
    "        part.click()\n",
    "        break"
   ]
  },
  {
   "cell_type": "code",
   "execution_count": 7,
   "id": "a4dee78d",
   "metadata": {},
   "outputs": [],
   "source": [
    "for part in driver.find_elements(\"tag name\",\"button\"):\n",
    "    if part.text==\"Not Now\":\n",
    "        part.click()"
   ]
  },
  {
   "cell_type": "markdown",
   "id": "31792b0a",
   "metadata": {},
   "source": [
    "# FOOD"
   ]
  },
  {
   "cell_type": "markdown",
   "id": "0e3a2dc9",
   "metadata": {},
   "source": [
    "Searching Food in Instagram and fetching all the name of Instagram handles which are displayed"
   ]
  },
  {
   "cell_type": "code",
   "execution_count": 8,
   "id": "9d6eee79",
   "metadata": {},
   "outputs": [],
   "source": [
    "\n",
    "## search \"food\" and type all things which are displayed after typing\n",
    "\n",
    "import requests"
   ]
  },
  {
   "cell_type": "markdown",
   "id": "b455affb",
   "metadata": {},
   "source": [
    "Finding Search bar -->"
   ]
  },
  {
   "cell_type": "code",
   "execution_count": 7,
   "id": "60b1a287",
   "metadata": {},
   "outputs": [],
   "source": [
    "for part in driver.find_elements(\"tag name\", \"svg\"):\n",
    "    if part.get_attribute(\"aria-label\") == \"Search\":\n",
    "        part.click()\n",
    "        break\n"
   ]
  },
  {
   "cell_type": "markdown",
   "id": "b93666ea",
   "metadata": {},
   "source": [
    "Type Food and Getting all insta handles"
   ]
  },
  {
   "cell_type": "code",
   "execution_count": 78,
   "id": "46bd730a",
   "metadata": {},
   "outputs": [],
   "source": [
    "search_typing=driver.find_element(\"tag name\",\"input\")\n",
    "search_typing.send_keys(\"food\")\n",
    "search_typing.send_keys(Keys.ENTER)"
   ]
  },
  {
   "cell_type": "code",
   "execution_count": 99,
   "id": "8664315c",
   "metadata": {},
   "outputs": [
    {
     "name": "stdout",
     "output_type": "stream",
     "text": [
      "foodzpah\n",
      "kolkatafoodie\n",
      "bengali_food_and_foodies\n",
      "thefoodgambler\n",
      "food.darzee\n",
      "flavourfood20\n",
      "food\n",
      "food_of_kolkata\n",
      "food_fundaofficial\n",
      "lyadhkhor_blogger\n",
      "thelobsterfoodtruck\n",
      "foodrooaster\n",
      "food\n",
      "foodpharmer\n",
      "haomaokhaovlogs\n",
      "foodkaseries\n",
      "foodyybangali\n",
      "foodie.da_calcutta\n",
      "food.and.frolic\n",
      "the_bong_gastronomist\n",
      "foodie\n",
      "theclassyfoodophile\n",
      "foodie_incarnate\n",
      "mumbaifoodie\n",
      "_food_over_people_\n",
      "kolkatafoodbundle\n",
      "kolkatafoodbloggers\n",
      "foodiefromkolkata11\n",
      "food.bengali\n",
      "the_foodie_violinist\n",
      "foody_mriganka99\n",
      "bengalifoodhub\n",
      "home_food_space_\n",
      "foodpeople_akshay\n",
      "yourfoodlab\n",
      "food-square\n",
      "foodporn\n",
      "howtofoodprep\n",
      "foodblogger\n",
      "the_food_delites\n",
      "food.peddler\n",
      "lasvegasfood\n",
      "sinful_foodie\n",
      "_foodexploring\n",
      "bongeats\n",
      "foodhub.officials\n",
      "foodie_mind__\n",
      "wtfootballindia\n",
      "fantastic-food-story\n",
      "1972-food-park\n",
      "the.blissful.stories\n",
      "faim_bong\n",
      "kolkata_food_express\n",
      "wtfcalcutta\n",
      "thegoodfoodbro\n",
      "foodbayindia\n"
     ]
    }
   ],
   "source": [
    "search_results=None\n",
    "for part in driver.find_elements(\"tag name\",\"div\"):\n",
    "    if part.get_attribute(\"class\")==\"x9f619 x78zum5 xdt5ytf x1iyjqo2 x6ikm8r x1odjw0f xh8yej3 xocp1fn\":\n",
    "        search_results=part\n",
    "result_lists=search_results.find_elements(\"tag name\",\"a\")\n",
    "url_arr=[]\n",
    "for result in result_lists:\n",
    "    url_arr.append(result.get_attribute(\"href\"))\n",
    "    \n",
    "final_url_arr=[]\n",
    "for url in url_arr:\n",
    "    if url not in final_url_arr:\n",
    "        final_url_arr.append(url)\n",
    "for url in final_url_arr:\n",
    "    heading_part=url.split(\"/\")\n",
    "    print(heading_part[-2])\n",
    "    \n",
    "    "
   ]
  },
  {
   "cell_type": "code",
   "execution_count": null,
   "id": "ccceb1ec",
   "metadata": {},
   "outputs": [],
   "source": []
  },
  {
   "cell_type": "markdown",
   "id": "8bdf520c",
   "metadata": {},
   "source": [
    "# So Delhi"
   ]
  },
  {
   "cell_type": "markdown",
   "id": "aadf3a61",
   "metadata": {},
   "source": [
    "\n",
    " Search profile \"So Delhi\" on Instagram and follow & msg & unfollow\n",
    "\n"
   ]
  },
  {
   "cell_type": "code",
   "execution_count": 101,
   "id": "61a8069a",
   "metadata": {},
   "outputs": [],
   "source": [
    "for part in driver.find_elements(\"tag name\", \"svg\"):\n",
    "    if part.get_attribute(\"aria-label\") == \"Search\":\n",
    "        part.click()\n",
    "        break\n"
   ]
  },
  {
   "cell_type": "code",
   "execution_count": 102,
   "id": "8fb2fa98",
   "metadata": {},
   "outputs": [],
   "source": [
    "search_typing=driver.find_element(\"tag name\",\"input\")\n",
    "search_typing.send_keys(\"So Delhi\")\n",
    "search_typing.send_keys(Keys.ENTER)"
   ]
  },
  {
   "cell_type": "code",
   "execution_count": 105,
   "id": "85d802ca",
   "metadata": {},
   "outputs": [],
   "source": [
    "required_div=None\n",
    "for part in driver.find_elements(\"tag name\",\"div\"):\n",
    "    if part.get_attribute(\"class\")==\"x9f619 x78zum5 xdt5ytf x1iyjqo2 x6ikm8r x1odjw0f xh8yej3 xocp1fn\":\n",
    "        required_div=part\n",
    "        break\n",
    "required_div.find_elements(\"tag name\",\"a\")[0].click()"
   ]
  },
  {
   "cell_type": "markdown",
   "id": "e68bb3ff",
   "metadata": {},
   "source": [
    "Following So Delhi Profile -->"
   ]
  },
  {
   "cell_type": "code",
   "execution_count": 107,
   "id": "68e8ecf7",
   "metadata": {},
   "outputs": [],
   "source": [
    "# follow\n",
    "\n",
    "for part in driver.find_elements(\"tag name\",\"div\"):\n",
    "    if part.get_attribute(\"class\")==\"_ap3a _aaco _aacw _aad6 _aade\":\n",
    "        part.click()\n",
    "        break"
   ]
  },
  {
   "cell_type": "markdown",
   "id": "c00999d1",
   "metadata": {},
   "source": [
    "Sending Msg "
   ]
  },
  {
   "cell_type": "code",
   "execution_count": 108,
   "id": "c1128db2",
   "metadata": {},
   "outputs": [],
   "source": [
    "# sending message\n",
    "\n",
    "for part in driver.find_elements(\"tag name\",\"div\"):\n",
    "    if part.text==\"Message\":\n",
    "        part.click()\n",
    "        break\n"
   ]
  },
  {
   "cell_type": "code",
   "execution_count": 112,
   "id": "f9a3e4c2",
   "metadata": {},
   "outputs": [],
   "source": [
    "msg_space=driver.find_element(\"tag name\",\"p\")\n",
    "msg_space.click()\n",
    "msg_space.send_keys(\"Hello Delhi\")"
   ]
  },
  {
   "cell_type": "code",
   "execution_count": 113,
   "id": "2e8dcf54",
   "metadata": {},
   "outputs": [],
   "source": [
    "for part in driver.find_elements(\"tag name\",\"div\"):\n",
    "    if part.text==\"Send\":\n",
    "        part.click()\n",
    "        break"
   ]
  },
  {
   "cell_type": "markdown",
   "id": "3f16ade6",
   "metadata": {},
   "source": [
    "Now we have to unfollow So Delhi profile"
   ]
  },
  {
   "cell_type": "code",
   "execution_count": 115,
   "id": "951c8c95",
   "metadata": {},
   "outputs": [],
   "source": [
    "# unfollowing\n",
    "\n",
    "driver.back()"
   ]
  },
  {
   "cell_type": "code",
   "execution_count": 140,
   "id": "64cb45e7",
   "metadata": {},
   "outputs": [
    {
     "data": {
      "text/plain": [
       "<selenium.webdriver.remote.webelement.WebElement (session=\"e359fccde8e7884ff343833b9a6179d8\", element=\"58DD564AFF23D1A658EAA34F9E246BBC_element_57829\")>"
      ]
     },
     "execution_count": 140,
     "metadata": {},
     "output_type": "execute_result"
    }
   ],
   "source": [
    "option=None\n",
    "for part in driver.find_elements(\"tag name\",\"svg\"):\n",
    "    if part.get_attribute(\"aria-label\")==\"Down chevron icon\":\n",
    "        option=part\n",
    "        break\n",
    "option"
   ]
  },
  {
   "cell_type": "code",
   "execution_count": 141,
   "id": "89aa65d9",
   "metadata": {},
   "outputs": [],
   "source": [
    "option.click()"
   ]
  },
  {
   "cell_type": "code",
   "execution_count": 142,
   "id": "e8739a86",
   "metadata": {},
   "outputs": [],
   "source": [
    "for part in driver.find_elements(\"tag name\",\"span\"):\n",
    "    if part.text==\"Unfollow\":\n",
    "        part.click()\n",
    "        break"
   ]
  },
  {
   "cell_type": "code",
   "execution_count": null,
   "id": "699f080b",
   "metadata": {},
   "outputs": [],
   "source": []
  },
  {
   "cell_type": "markdown",
   "id": "34415bdc",
   "metadata": {},
   "source": [
    "# DilseFoodie"
   ]
  },
  {
   "cell_type": "markdown",
   "id": "3d41d5fb",
   "metadata": {},
   "source": [
    "Finding out dilsefoodie profile and see it's top 30 posts. Like these top 30 posts and then dislike it\n",
    "\n"
   ]
  },
  {
   "cell_type": "code",
   "execution_count": 62,
   "id": "355064cf",
   "metadata": {},
   "outputs": [],
   "source": [
    "for part in driver.find_elements(\"tag name\", \"svg\"):\n",
    "    if part.get_attribute(\"aria-label\") == \"Search\":\n",
    "        part.click()\n",
    "        break"
   ]
  },
  {
   "cell_type": "code",
   "execution_count": 8,
   "id": "91118d41",
   "metadata": {},
   "outputs": [],
   "source": [
    "search_typing=driver.find_element(\"tag name\",\"input\")\n",
    "search_typing.send_keys(\"dilsefoodie\")\n",
    "search_typing.send_keys(Keys.ENTER)\n",
    "\n"
   ]
  },
  {
   "cell_type": "markdown",
   "id": "d0b6fa97",
   "metadata": {},
   "source": [
    "Searching profile named as dilsefoodie"
   ]
  },
  {
   "cell_type": "code",
   "execution_count": 9,
   "id": "3aed5ddb",
   "metadata": {},
   "outputs": [],
   "source": [
    "for part in driver.find_elements(\"tag name\",\"span\"):\n",
    "    if part.text==\"dilsefoodie\":\n",
    "        part.click()\n",
    "        break"
   ]
  },
  {
   "cell_type": "markdown",
   "id": "8423ee74",
   "metadata": {},
   "source": [
    "Like top 30 posts"
   ]
  },
  {
   "cell_type": "code",
   "execution_count": 23,
   "id": "cc740f6d",
   "metadata": {},
   "outputs": [],
   "source": [
    "count=0\n",
    "for post in driver.find_elements(\"class name\",\"_aagw\"):\n",
    "    if count==30:\n",
    "        break\n",
    "    post.click()\n",
    "    for part in driver.find_elements(\"tag name\",\"svg\"):\n",
    "        if part.get_attribute(\"aria-label\")==\"Like\":\n",
    "            part.click()\n",
    "            count+=1\n",
    "    driver.back()\n",
    "        "
   ]
  },
  {
   "cell_type": "markdown",
   "id": "6e55db6e",
   "metadata": {},
   "source": [
    "After liking, it's turn for disliking the posts "
   ]
  },
  {
   "cell_type": "code",
   "execution_count": 25,
   "id": "658d72bd",
   "metadata": {},
   "outputs": [],
   "source": [
    "count=0\n",
    "for post in driver.find_elements(\"class name\",\"_aagw\"):\n",
    "    if count==30:\n",
    "        break\n",
    "    post.click()\n",
    "    for part in driver.find_elements(\"tag name\",\"svg\"):\n",
    "        if part.get_attribute(\"aria-label\")==\"Unlike\":\n",
    "            part.click()\n",
    "            count+=1\n",
    "    driver.back()\n",
    "        \n"
   ]
  },
  {
   "cell_type": "code",
   "execution_count": null,
   "id": "82a52ee0",
   "metadata": {},
   "outputs": [],
   "source": []
  },
  {
   "cell_type": "markdown",
   "id": "c301399e",
   "metadata": {},
   "source": [
    "# FoodTalkIndia"
   ]
  },
  {
   "cell_type": "markdown",
   "id": "383e5a82",
   "metadata": {},
   "source": [
    "\n",
    "   foodtalkindia  500 followers user name\n",
    "\n"
   ]
  },
  {
   "cell_type": "markdown",
   "id": "7c02f766",
   "metadata": {},
   "source": [
    "Here I have to extract 500 followers first, then finding those followers to whom I follow but they do not"
   ]
  },
  {
   "cell_type": "markdown",
   "id": "b8408d55",
   "metadata": {},
   "source": [
    "To do it, first I have to fetch all usernames of my followers and store it in a list. Then find out each followers user name of foodtalkindia and check iF I have followed them and if they are not present in the list of my followers"
   ]
  },
  {
   "cell_type": "code",
   "execution_count": 50,
   "id": "df9819da",
   "metadata": {},
   "outputs": [],
   "source": [
    "# extracting my follower's user-name\n",
    "\n",
    "my_followers=[]\n",
    "for image in driver.find_elements(\"tag name\",\"img\"):\n",
    "    if image.get_attribute(\"alt\")==\"i_am_shankhadeep's profile picture\":\n",
    "        image.click()\n",
    "        break"
   ]
  },
  {
   "cell_type": "code",
   "execution_count": 51,
   "id": "54beeac4",
   "metadata": {},
   "outputs": [
    {
     "data": {
      "text/plain": [
       "'https://www.instagram.com/i_am_shankhadeep/followers/'"
      ]
     },
     "execution_count": 51,
     "metadata": {},
     "output_type": "execute_result"
    }
   ],
   "source": [
    "new_url=None\n",
    "for part in driver.find_elements(\"tag name\",\"a\"):\n",
    "    if part.get_attribute(\"class\")==\"x1i10hfl xjbqb8w x6umtig x1b1mbwd xaqea5y xav7gou x9f619 x1ypdohk xt0psk2 xe8uvvx xdj266r x11i5rnm xat24cr x1mh8g0r xexx8yu x4uap5 x18d9i69 xkhd6sd x16tdsg8 x1hl2dhg xggy1nq x1a2a7pz _alvs _a6hd\":\n",
    "        new_url=part.get_attribute(\"href\")\n",
    "        break\n",
    "new_url"
   ]
  },
  {
   "cell_type": "code",
   "execution_count": 52,
   "id": "90bf123f",
   "metadata": {},
   "outputs": [],
   "source": [
    "driver.get(new_url)"
   ]
  },
  {
   "cell_type": "code",
   "execution_count": null,
   "id": "9d7c36d7",
   "metadata": {},
   "outputs": [],
   "source": [
    "## Now we have to scroll all flwrs manually in site because followers are loaded in site slowly, we have to scroll all\n",
    "## followers till last and then write and run this 👇 code"
   ]
  },
  {
   "cell_type": "code",
   "execution_count": 61,
   "id": "cb49d848",
   "metadata": {},
   "outputs": [],
   "source": [
    "for name in driver.find_elements(\"tag name\",\"span\"): \n",
    "    if name.get_attribute(\"class\")==\"_ap3a _aaco _aacw _aacx _aad7 _aade\":\n",
    "        my_followers.append(name.text)"
   ]
  },
  {
   "cell_type": "code",
   "execution_count": 62,
   "id": "11855f52",
   "metadata": {},
   "outputs": [
    {
     "data": {
      "text/plain": [
       "324"
      ]
     },
     "execution_count": 62,
     "metadata": {},
     "output_type": "execute_result"
    }
   ],
   "source": [
    "len(my_followers)"
   ]
  },
  {
   "cell_type": "code",
   "execution_count": 64,
   "id": "79ae5199",
   "metadata": {},
   "outputs": [],
   "source": [
    "driver.back()"
   ]
  },
  {
   "cell_type": "code",
   "execution_count": null,
   "id": "27d1fdb5",
   "metadata": {},
   "outputs": [],
   "source": [
    "## now searching for foodtalkindia and fetch followers"
   ]
  },
  {
   "cell_type": "code",
   "execution_count": 65,
   "id": "ee524128",
   "metadata": {},
   "outputs": [],
   "source": [
    "for part in driver.find_elements(\"tag name\", \"svg\"):\n",
    "    if part.get_attribute(\"aria-label\") == \"Search\":\n",
    "        part.click()\n",
    "        break"
   ]
  },
  {
   "cell_type": "code",
   "execution_count": 66,
   "id": "166e691f",
   "metadata": {},
   "outputs": [],
   "source": [
    "search_typing=driver.find_element(\"tag name\",\"input\")\n",
    "search_typing.send_keys(\"foodtalkindia\")\n",
    "search_typing.send_keys(Keys.ENTER)"
   ]
  },
  {
   "cell_type": "code",
   "execution_count": 67,
   "id": "8bcd56ce",
   "metadata": {},
   "outputs": [],
   "source": [
    "for part in driver.find_elements(\"tag name\",\"span\"):\n",
    "    if part.text==\"foodtalkindia\":\n",
    "        part.click()\n",
    "        break"
   ]
  },
  {
   "cell_type": "code",
   "execution_count": 68,
   "id": "bedbb038",
   "metadata": {},
   "outputs": [
    {
     "data": {
      "text/plain": [
       "'https://www.instagram.com/foodtalkindia/followers/'"
      ]
     },
     "execution_count": 68,
     "metadata": {},
     "output_type": "execute_result"
    }
   ],
   "source": [
    "url=None\n",
    "for part in driver.find_elements(\"tag name\",\"a\"):\n",
    "    if \"followers\" in part.get_attribute(\"href\"):\n",
    "        url=part.get_attribute(\"href\")\n",
    "        break\n",
    "    \n",
    "url"
   ]
  },
  {
   "cell_type": "code",
   "execution_count": 69,
   "id": "bbd41f6d",
   "metadata": {},
   "outputs": [],
   "source": [
    "driver.get(url)"
   ]
  },
  {
   "cell_type": "code",
   "execution_count": null,
   "id": "0bb8b876",
   "metadata": {},
   "outputs": [],
   "source": [
    "## now fetch followers of foodtalkindia and compare if I follow them and if they are not in my followers list"
   ]
  },
  {
   "cell_type": "code",
   "execution_count": 72,
   "id": "e7eeaad8",
   "metadata": {},
   "outputs": [
    {
     "name": "stdout",
     "output_type": "stream",
     "text": [
      "arunthekurian\n"
     ]
    }
   ],
   "source": [
    "for account in driver.find_elements(\"tag name\",\"div\"):\n",
    "    if account.get_attribute(\"class\")==\"x9f619 x1n2onr6 x1ja2u2z x78zum5 x2lah0s x1qughib x6s0dn4 xozqiw3 x1q0g3np\":\n",
    "        for option in account.find_elements(\"tag name\",\"div\"):\n",
    "            if option.get_attribute(\"class\")==\"_ap3a _aaco _aacw _aad6 _aade\":\n",
    "                if option.text==\"Following\":\n",
    "                    for username in account.find_elements(\"tag name\",\"span\"):\n",
    "                        if username.get_attribute(\"class\")==\"_ap3a _aaco _aacw _aacx _aad7 _aade\":\n",
    "                            name=username.text\n",
    "                            if name not in my_followers:\n",
    "                                print(name)\n",
    "        \n",
    "        \n",
    "        "
   ]
  },
  {
   "cell_type": "code",
   "execution_count": null,
   "id": "003d5b4b",
   "metadata": {},
   "outputs": [],
   "source": []
  },
  {
   "cell_type": "code",
   "execution_count": null,
   "id": "9ee57b76",
   "metadata": {},
   "outputs": [],
   "source": []
  },
  {
   "cell_type": "code",
   "execution_count": null,
   "id": "0ab055b9",
   "metadata": {},
   "outputs": [],
   "source": []
  },
  {
   "cell_type": "markdown",
   "id": "78bf4ef2",
   "metadata": {},
   "source": [
    "##       coding ninjas\n",
    "    "
   ]
  },
  {
   "cell_type": "markdown",
   "id": "d5c4d77c",
   "metadata": {},
   "source": [
    "Find out coding.ninjas in instagram and check its story"
   ]
  },
  {
   "cell_type": "code",
   "execution_count": 53,
   "id": "6e2d69f3",
   "metadata": {},
   "outputs": [],
   "source": [
    "for part in driver.find_elements(\"tag name\", \"svg\"):\n",
    "    if part.get_attribute(\"aria-label\") == \"Search\":\n",
    "        part.click()\n",
    "        break"
   ]
  },
  {
   "cell_type": "code",
   "execution_count": 54,
   "id": "1226dc24",
   "metadata": {},
   "outputs": [],
   "source": [
    "search_typing=driver.find_element(\"tag name\",\"input\")\n",
    "search_typing.send_keys(\"coding.ninjas\")\n",
    "search_typing.send_keys(Keys.ENTER)"
   ]
  },
  {
   "cell_type": "code",
   "execution_count": 55,
   "id": "eb681cb5",
   "metadata": {},
   "outputs": [],
   "source": [
    "for part in driver.find_elements(\"tag name\",\"span\"):\n",
    "    if part.text==\"coding.ninjas\":\n",
    "        part.click()\n",
    "        break"
   ]
  },
  {
   "cell_type": "code",
   "execution_count": 58,
   "id": "1a83a7b1",
   "metadata": {},
   "outputs": [],
   "source": [
    "for part in driver.find_elements(\"tag name\",\"img\"):\n",
    "    if part.get_attribute(\"alt\")==\"coding.ninjas's profile picture\":\n",
    "        part.click()\n",
    "        break"
   ]
  },
  {
   "cell_type": "code",
   "execution_count": 61,
   "id": "e48ef1de",
   "metadata": {},
   "outputs": [
    {
     "name": "stdout",
     "output_type": "stream",
     "text": [
      "True\n"
     ]
    }
   ],
   "source": [
    "for part in driver.find_elements(\"tag name\",\"img\"):\n",
    "    if part.get_attribute(\"alt\") == \"coding.ninjas's profile picture\":\n",
    "        print(part.is_enabled())\n",
    "        break\n"
   ]
  },
  {
   "cell_type": "code",
   "execution_count": null,
   "id": "8d5b36bf",
   "metadata": {},
   "outputs": [],
   "source": []
  },
  {
   "cell_type": "code",
   "execution_count": null,
   "id": "2ba07f10",
   "metadata": {},
   "outputs": [],
   "source": []
  }
 ],
 "metadata": {
  "kernelspec": {
   "display_name": "Python 3 (ipykernel)",
   "language": "python",
   "name": "python3"
  },
  "language_info": {
   "codemirror_mode": {
    "name": "ipython",
    "version": 3
   },
   "file_extension": ".py",
   "mimetype": "text/x-python",
   "name": "python",
   "nbconvert_exporter": "python",
   "pygments_lexer": "ipython3",
   "version": "3.11.5"
  }
 },
 "nbformat": 4,
 "nbformat_minor": 5
}
